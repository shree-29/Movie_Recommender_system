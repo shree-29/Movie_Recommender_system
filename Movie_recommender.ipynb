{
 "cells": [
  {
   "cell_type": "markdown",
   "id": "df1f38e2",
   "metadata": {},
   "source": [
    "# Movie Recommender System"
   ]
  },
  {
   "cell_type": "code",
   "execution_count": 1,
   "id": "2fd7011e",
   "metadata": {},
   "outputs": [],
   "source": [
    "from sklearn import preprocessing\n",
    "import pandas as pd\n",
    "import numpy as np\n",
    "from sklearn import svm\n",
    "from sklearn.ensemble import RandomForestClassifier\n",
    "from sklearn.naive_bayes import GaussianNB\n",
    "from sklearn.tree import DecisionTreeClassifier \n",
    "from sklearn.model_selection import train_test_split\n",
    "from sklearn import metrics\n",
    "from sklearn.neighbors import KNeighborsClassifier\n",
    "from sklearn.metrics import accuracy_score\n",
    "from sklearn.linear_model import LogisticRegression\n",
    "import warnings\n",
    "warnings.filterwarnings('ignore')\n",
    "from sklearn import tree\n",
    "from sklearn.naive_bayes import GaussianNB\n",
    "import seaborn as sns\n",
    "import matplotlib.pyplot as plt\n",
    "from sklearn.metrics import plot_confusion_matrix\n",
    "import pandas as pd\n",
    "from sklearn.metrics import precision_score\n",
    "from sklearn.metrics import recall_score\n",
    "from sklearn.metrics import f1_score\n",
    "import time\n",
    "from sklearn.utils import resample\n",
    "from sklearn.ensemble import BaggingClassifier\n",
    "from sklearn.pipeline import make_pipeline\n",
    "from sklearn.preprocessing import StandardScaler\n",
    "from sklearn.metrics import accuracy_score, f1_score, precision_score, recall_score, classification_report, confusion_matrix"
   ]
  },
  {
   "cell_type": "code",
   "execution_count": 2,
   "id": "bd238d62",
   "metadata": {},
   "outputs": [],
   "source": [
    "df = pd.read_csv(r\"C:\\Users\\prave\\Downloads\\archive (1)\\IMDb movies.csv\")\n",
    "df1=pd.read_csv(r\"C:\\Users\\prave\\Downloads\\archive (1)\\IMDb movies.csv\")"
   ]
  },
  {
   "cell_type": "code",
   "execution_count": 3,
   "id": "fccd24b2",
   "metadata": {},
   "outputs": [
    {
     "name": "stdout",
     "output_type": "stream",
     "text": [
      "size of dataset =  85855\n",
      "number of columns in dataset =  22\n"
     ]
    }
   ],
   "source": [
    "print('size of dataset = ',len(df))\n",
    "print('number of columns in dataset = ',len(df.columns))"
   ]
  },
  {
   "cell_type": "code",
   "execution_count": 4,
   "id": "ffc7ca1b",
   "metadata": {},
   "outputs": [
    {
     "data": {
      "text/html": [
       "<div>\n",
       "<style scoped>\n",
       "    .dataframe tbody tr th:only-of-type {\n",
       "        vertical-align: middle;\n",
       "    }\n",
       "\n",
       "    .dataframe tbody tr th {\n",
       "        vertical-align: top;\n",
       "    }\n",
       "\n",
       "    .dataframe thead th {\n",
       "        text-align: right;\n",
       "    }\n",
       "</style>\n",
       "<table border=\"1\" class=\"dataframe\">\n",
       "  <thead>\n",
       "    <tr style=\"text-align: right;\">\n",
       "      <th></th>\n",
       "      <th>imdb_title_id</th>\n",
       "      <th>title</th>\n",
       "      <th>original_title</th>\n",
       "      <th>year</th>\n",
       "      <th>date_published</th>\n",
       "      <th>genre</th>\n",
       "      <th>duration</th>\n",
       "      <th>country</th>\n",
       "      <th>language</th>\n",
       "      <th>director</th>\n",
       "      <th>...</th>\n",
       "      <th>actors</th>\n",
       "      <th>description</th>\n",
       "      <th>avg_vote</th>\n",
       "      <th>votes</th>\n",
       "      <th>budget</th>\n",
       "      <th>usa_gross_income</th>\n",
       "      <th>worlwide_gross_income</th>\n",
       "      <th>metascore</th>\n",
       "      <th>reviews_from_users</th>\n",
       "      <th>reviews_from_critics</th>\n",
       "    </tr>\n",
       "  </thead>\n",
       "  <tbody>\n",
       "    <tr>\n",
       "      <th>0</th>\n",
       "      <td>tt0000009</td>\n",
       "      <td>Miss Jerry</td>\n",
       "      <td>Miss Jerry</td>\n",
       "      <td>1894</td>\n",
       "      <td>1894-10-09</td>\n",
       "      <td>Romance</td>\n",
       "      <td>45</td>\n",
       "      <td>USA</td>\n",
       "      <td>None</td>\n",
       "      <td>Alexander Black</td>\n",
       "      <td>...</td>\n",
       "      <td>Blanche Bayliss, William Courtenay, Chauncey D...</td>\n",
       "      <td>The adventures of a female reporter in the 1890s.</td>\n",
       "      <td>5.9</td>\n",
       "      <td>154</td>\n",
       "      <td>NaN</td>\n",
       "      <td>NaN</td>\n",
       "      <td>NaN</td>\n",
       "      <td>NaN</td>\n",
       "      <td>1.0</td>\n",
       "      <td>2.0</td>\n",
       "    </tr>\n",
       "    <tr>\n",
       "      <th>1</th>\n",
       "      <td>tt0000574</td>\n",
       "      <td>The Story of the Kelly Gang</td>\n",
       "      <td>The Story of the Kelly Gang</td>\n",
       "      <td>1906</td>\n",
       "      <td>1906-12-26</td>\n",
       "      <td>Biography, Crime, Drama</td>\n",
       "      <td>70</td>\n",
       "      <td>Australia</td>\n",
       "      <td>None</td>\n",
       "      <td>Charles Tait</td>\n",
       "      <td>...</td>\n",
       "      <td>Elizabeth Tait, John Tait, Norman Campbell, Be...</td>\n",
       "      <td>True story of notorious Australian outlaw Ned ...</td>\n",
       "      <td>6.1</td>\n",
       "      <td>589</td>\n",
       "      <td>$ 2250</td>\n",
       "      <td>NaN</td>\n",
       "      <td>NaN</td>\n",
       "      <td>NaN</td>\n",
       "      <td>7.0</td>\n",
       "      <td>7.0</td>\n",
       "    </tr>\n",
       "    <tr>\n",
       "      <th>2</th>\n",
       "      <td>tt0001892</td>\n",
       "      <td>Den sorte drøm</td>\n",
       "      <td>Den sorte drøm</td>\n",
       "      <td>1911</td>\n",
       "      <td>1911-08-19</td>\n",
       "      <td>Drama</td>\n",
       "      <td>53</td>\n",
       "      <td>Germany, Denmark</td>\n",
       "      <td>NaN</td>\n",
       "      <td>Urban Gad</td>\n",
       "      <td>...</td>\n",
       "      <td>Asta Nielsen, Valdemar Psilander, Gunnar Helse...</td>\n",
       "      <td>Two men of high rank are both wooing the beaut...</td>\n",
       "      <td>5.8</td>\n",
       "      <td>188</td>\n",
       "      <td>NaN</td>\n",
       "      <td>NaN</td>\n",
       "      <td>NaN</td>\n",
       "      <td>NaN</td>\n",
       "      <td>5.0</td>\n",
       "      <td>2.0</td>\n",
       "    </tr>\n",
       "    <tr>\n",
       "      <th>3</th>\n",
       "      <td>tt0002101</td>\n",
       "      <td>Cleopatra</td>\n",
       "      <td>Cleopatra</td>\n",
       "      <td>1912</td>\n",
       "      <td>1912-11-13</td>\n",
       "      <td>Drama, History</td>\n",
       "      <td>100</td>\n",
       "      <td>USA</td>\n",
       "      <td>English</td>\n",
       "      <td>Charles L. Gaskill</td>\n",
       "      <td>...</td>\n",
       "      <td>Helen Gardner, Pearl Sindelar, Miss Fielding, ...</td>\n",
       "      <td>The fabled queen of Egypt's affair with Roman ...</td>\n",
       "      <td>5.2</td>\n",
       "      <td>446</td>\n",
       "      <td>$ 45000</td>\n",
       "      <td>NaN</td>\n",
       "      <td>NaN</td>\n",
       "      <td>NaN</td>\n",
       "      <td>25.0</td>\n",
       "      <td>3.0</td>\n",
       "    </tr>\n",
       "    <tr>\n",
       "      <th>4</th>\n",
       "      <td>tt0002130</td>\n",
       "      <td>L'Inferno</td>\n",
       "      <td>L'Inferno</td>\n",
       "      <td>1911</td>\n",
       "      <td>1911-03-06</td>\n",
       "      <td>Adventure, Drama, Fantasy</td>\n",
       "      <td>68</td>\n",
       "      <td>Italy</td>\n",
       "      <td>Italian</td>\n",
       "      <td>Francesco Bertolini, Adolfo Padovan</td>\n",
       "      <td>...</td>\n",
       "      <td>Salvatore Papa, Arturo Pirovano, Giuseppe de L...</td>\n",
       "      <td>Loosely adapted from Dante's Divine Comedy and...</td>\n",
       "      <td>7.0</td>\n",
       "      <td>2237</td>\n",
       "      <td>NaN</td>\n",
       "      <td>NaN</td>\n",
       "      <td>NaN</td>\n",
       "      <td>NaN</td>\n",
       "      <td>31.0</td>\n",
       "      <td>14.0</td>\n",
       "    </tr>\n",
       "  </tbody>\n",
       "</table>\n",
       "<p>5 rows × 22 columns</p>\n",
       "</div>"
      ],
      "text/plain": [
       "  imdb_title_id                        title               original_title  \\\n",
       "0     tt0000009                   Miss Jerry                   Miss Jerry   \n",
       "1     tt0000574  The Story of the Kelly Gang  The Story of the Kelly Gang   \n",
       "2     tt0001892               Den sorte drøm               Den sorte drøm   \n",
       "3     tt0002101                    Cleopatra                    Cleopatra   \n",
       "4     tt0002130                    L'Inferno                    L'Inferno   \n",
       "\n",
       "   year date_published                      genre  duration           country  \\\n",
       "0  1894     1894-10-09                    Romance        45               USA   \n",
       "1  1906     1906-12-26    Biography, Crime, Drama        70         Australia   \n",
       "2  1911     1911-08-19                      Drama        53  Germany, Denmark   \n",
       "3  1912     1912-11-13             Drama, History       100               USA   \n",
       "4  1911     1911-03-06  Adventure, Drama, Fantasy        68             Italy   \n",
       "\n",
       "  language                             director  ...  \\\n",
       "0     None                      Alexander Black  ...   \n",
       "1     None                         Charles Tait  ...   \n",
       "2      NaN                            Urban Gad  ...   \n",
       "3  English                   Charles L. Gaskill  ...   \n",
       "4  Italian  Francesco Bertolini, Adolfo Padovan  ...   \n",
       "\n",
       "                                              actors  \\\n",
       "0  Blanche Bayliss, William Courtenay, Chauncey D...   \n",
       "1  Elizabeth Tait, John Tait, Norman Campbell, Be...   \n",
       "2  Asta Nielsen, Valdemar Psilander, Gunnar Helse...   \n",
       "3  Helen Gardner, Pearl Sindelar, Miss Fielding, ...   \n",
       "4  Salvatore Papa, Arturo Pirovano, Giuseppe de L...   \n",
       "\n",
       "                                         description avg_vote votes   budget  \\\n",
       "0  The adventures of a female reporter in the 1890s.      5.9   154      NaN   \n",
       "1  True story of notorious Australian outlaw Ned ...      6.1   589   $ 2250   \n",
       "2  Two men of high rank are both wooing the beaut...      5.8   188      NaN   \n",
       "3  The fabled queen of Egypt's affair with Roman ...      5.2   446  $ 45000   \n",
       "4  Loosely adapted from Dante's Divine Comedy and...      7.0  2237      NaN   \n",
       "\n",
       "   usa_gross_income worlwide_gross_income metascore reviews_from_users  \\\n",
       "0               NaN                   NaN       NaN                1.0   \n",
       "1               NaN                   NaN       NaN                7.0   \n",
       "2               NaN                   NaN       NaN                5.0   \n",
       "3               NaN                   NaN       NaN               25.0   \n",
       "4               NaN                   NaN       NaN               31.0   \n",
       "\n",
       "   reviews_from_critics  \n",
       "0                   2.0  \n",
       "1                   7.0  \n",
       "2                   2.0  \n",
       "3                   3.0  \n",
       "4                  14.0  \n",
       "\n",
       "[5 rows x 22 columns]"
      ]
     },
     "execution_count": 4,
     "metadata": {},
     "output_type": "execute_result"
    }
   ],
   "source": [
    "df.head()"
   ]
  },
  {
   "cell_type": "code",
   "execution_count": 5,
   "id": "ff3627b1",
   "metadata": {},
   "outputs": [
    {
     "data": {
      "text/html": [
       "<div>\n",
       "<style scoped>\n",
       "    .dataframe tbody tr th:only-of-type {\n",
       "        vertical-align: middle;\n",
       "    }\n",
       "\n",
       "    .dataframe tbody tr th {\n",
       "        vertical-align: top;\n",
       "    }\n",
       "\n",
       "    .dataframe thead th {\n",
       "        text-align: right;\n",
       "    }\n",
       "</style>\n",
       "<table border=\"1\" class=\"dataframe\">\n",
       "  <thead>\n",
       "    <tr style=\"text-align: right;\">\n",
       "      <th></th>\n",
       "      <th>imdb_title_id</th>\n",
       "      <th>title</th>\n",
       "      <th>original_title</th>\n",
       "      <th>year</th>\n",
       "      <th>date_published</th>\n",
       "      <th>genre</th>\n",
       "      <th>duration</th>\n",
       "      <th>country</th>\n",
       "      <th>language</th>\n",
       "      <th>director</th>\n",
       "      <th>...</th>\n",
       "      <th>actors</th>\n",
       "      <th>description</th>\n",
       "      <th>avg_vote</th>\n",
       "      <th>votes</th>\n",
       "      <th>budget</th>\n",
       "      <th>usa_gross_income</th>\n",
       "      <th>worlwide_gross_income</th>\n",
       "      <th>metascore</th>\n",
       "      <th>reviews_from_users</th>\n",
       "      <th>reviews_from_critics</th>\n",
       "    </tr>\n",
       "  </thead>\n",
       "  <tbody>\n",
       "    <tr>\n",
       "      <th>85850</th>\n",
       "      <td>tt9908390</td>\n",
       "      <td>Le lion</td>\n",
       "      <td>Le lion</td>\n",
       "      <td>2020</td>\n",
       "      <td>2020-01-29</td>\n",
       "      <td>Comedy</td>\n",
       "      <td>95</td>\n",
       "      <td>France, Belgium</td>\n",
       "      <td>French</td>\n",
       "      <td>Ludovic Colbeau-Justin</td>\n",
       "      <td>...</td>\n",
       "      <td>Dany Boon, Philippe Katerine, Anne Serra, Samu...</td>\n",
       "      <td>A psychiatric hospital patient pretends to be ...</td>\n",
       "      <td>5.3</td>\n",
       "      <td>398</td>\n",
       "      <td>NaN</td>\n",
       "      <td>NaN</td>\n",
       "      <td>$ 3507171</td>\n",
       "      <td>NaN</td>\n",
       "      <td>NaN</td>\n",
       "      <td>4.0</td>\n",
       "    </tr>\n",
       "    <tr>\n",
       "      <th>85851</th>\n",
       "      <td>tt9911196</td>\n",
       "      <td>De Beentjes van Sint-Hildegard</td>\n",
       "      <td>De Beentjes van Sint-Hildegard</td>\n",
       "      <td>2020</td>\n",
       "      <td>2020-02-13</td>\n",
       "      <td>Comedy, Drama</td>\n",
       "      <td>103</td>\n",
       "      <td>Netherlands</td>\n",
       "      <td>German, Dutch</td>\n",
       "      <td>Johan Nijenhuis</td>\n",
       "      <td>...</td>\n",
       "      <td>Herman Finkers, Johanna ter Steege, Leonie ter...</td>\n",
       "      <td>A middle-aged veterinary surgeon believes his ...</td>\n",
       "      <td>7.7</td>\n",
       "      <td>724</td>\n",
       "      <td>NaN</td>\n",
       "      <td>NaN</td>\n",
       "      <td>$ 7299062</td>\n",
       "      <td>NaN</td>\n",
       "      <td>6.0</td>\n",
       "      <td>4.0</td>\n",
       "    </tr>\n",
       "    <tr>\n",
       "      <th>85852</th>\n",
       "      <td>tt9911774</td>\n",
       "      <td>Padmavyuhathile Abhimanyu</td>\n",
       "      <td>Padmavyuhathile Abhimanyu</td>\n",
       "      <td>2019</td>\n",
       "      <td>2019-03-08</td>\n",
       "      <td>Drama</td>\n",
       "      <td>130</td>\n",
       "      <td>India</td>\n",
       "      <td>Malayalam</td>\n",
       "      <td>Vineesh Aaradya</td>\n",
       "      <td>...</td>\n",
       "      <td>Anoop Chandran, Indrans, Sona Nair, Simon Brit...</td>\n",
       "      <td>NaN</td>\n",
       "      <td>7.9</td>\n",
       "      <td>265</td>\n",
       "      <td>NaN</td>\n",
       "      <td>NaN</td>\n",
       "      <td>NaN</td>\n",
       "      <td>NaN</td>\n",
       "      <td>NaN</td>\n",
       "      <td>NaN</td>\n",
       "    </tr>\n",
       "    <tr>\n",
       "      <th>85853</th>\n",
       "      <td>tt9914286</td>\n",
       "      <td>Sokagin Çocuklari</td>\n",
       "      <td>Sokagin Çocuklari</td>\n",
       "      <td>2019</td>\n",
       "      <td>2019-03-15</td>\n",
       "      <td>Drama, Family</td>\n",
       "      <td>98</td>\n",
       "      <td>Turkey</td>\n",
       "      <td>Turkish</td>\n",
       "      <td>Ahmet Faik Akinci</td>\n",
       "      <td>...</td>\n",
       "      <td>Ahmet Faik Akinci, Belma Mamati, Metin Keçeci,...</td>\n",
       "      <td>NaN</td>\n",
       "      <td>6.4</td>\n",
       "      <td>194</td>\n",
       "      <td>NaN</td>\n",
       "      <td>NaN</td>\n",
       "      <td>$ 2833</td>\n",
       "      <td>NaN</td>\n",
       "      <td>NaN</td>\n",
       "      <td>NaN</td>\n",
       "    </tr>\n",
       "    <tr>\n",
       "      <th>85854</th>\n",
       "      <td>tt9914942</td>\n",
       "      <td>La vida sense la Sara Amat</td>\n",
       "      <td>La vida sense la Sara Amat</td>\n",
       "      <td>2019</td>\n",
       "      <td>2020-02-05</td>\n",
       "      <td>Drama</td>\n",
       "      <td>74</td>\n",
       "      <td>Spain</td>\n",
       "      <td>Catalan</td>\n",
       "      <td>Laura Jou</td>\n",
       "      <td>...</td>\n",
       "      <td>Maria Morera Colomer, Biel Rossell Pelfort, Is...</td>\n",
       "      <td>Pep, a 13-year-old boy, is in love with a girl...</td>\n",
       "      <td>6.7</td>\n",
       "      <td>102</td>\n",
       "      <td>NaN</td>\n",
       "      <td>NaN</td>\n",
       "      <td>$ 59794</td>\n",
       "      <td>NaN</td>\n",
       "      <td>NaN</td>\n",
       "      <td>2.0</td>\n",
       "    </tr>\n",
       "  </tbody>\n",
       "</table>\n",
       "<p>5 rows × 22 columns</p>\n",
       "</div>"
      ],
      "text/plain": [
       "      imdb_title_id                           title  \\\n",
       "85850     tt9908390                         Le lion   \n",
       "85851     tt9911196  De Beentjes van Sint-Hildegard   \n",
       "85852     tt9911774       Padmavyuhathile Abhimanyu   \n",
       "85853     tt9914286               Sokagin Çocuklari   \n",
       "85854     tt9914942      La vida sense la Sara Amat   \n",
       "\n",
       "                       original_title  year date_published          genre  \\\n",
       "85850                         Le lion  2020     2020-01-29         Comedy   \n",
       "85851  De Beentjes van Sint-Hildegard  2020     2020-02-13  Comedy, Drama   \n",
       "85852       Padmavyuhathile Abhimanyu  2019     2019-03-08          Drama   \n",
       "85853               Sokagin Çocuklari  2019     2019-03-15  Drama, Family   \n",
       "85854      La vida sense la Sara Amat  2019     2020-02-05          Drama   \n",
       "\n",
       "       duration          country       language                director  ...  \\\n",
       "85850        95  France, Belgium         French  Ludovic Colbeau-Justin  ...   \n",
       "85851       103      Netherlands  German, Dutch         Johan Nijenhuis  ...   \n",
       "85852       130            India      Malayalam         Vineesh Aaradya  ...   \n",
       "85853        98           Turkey        Turkish       Ahmet Faik Akinci  ...   \n",
       "85854        74            Spain        Catalan               Laura Jou  ...   \n",
       "\n",
       "                                                  actors  \\\n",
       "85850  Dany Boon, Philippe Katerine, Anne Serra, Samu...   \n",
       "85851  Herman Finkers, Johanna ter Steege, Leonie ter...   \n",
       "85852  Anoop Chandran, Indrans, Sona Nair, Simon Brit...   \n",
       "85853  Ahmet Faik Akinci, Belma Mamati, Metin Keçeci,...   \n",
       "85854  Maria Morera Colomer, Biel Rossell Pelfort, Is...   \n",
       "\n",
       "                                             description avg_vote votes  \\\n",
       "85850  A psychiatric hospital patient pretends to be ...      5.3   398   \n",
       "85851  A middle-aged veterinary surgeon believes his ...      7.7   724   \n",
       "85852                                                NaN      7.9   265   \n",
       "85853                                                NaN      6.4   194   \n",
       "85854  Pep, a 13-year-old boy, is in love with a girl...      6.7   102   \n",
       "\n",
       "       budget  usa_gross_income worlwide_gross_income metascore  \\\n",
       "85850     NaN               NaN             $ 3507171       NaN   \n",
       "85851     NaN               NaN             $ 7299062       NaN   \n",
       "85852     NaN               NaN                   NaN       NaN   \n",
       "85853     NaN               NaN                $ 2833       NaN   \n",
       "85854     NaN               NaN               $ 59794       NaN   \n",
       "\n",
       "      reviews_from_users  reviews_from_critics  \n",
       "85850                NaN                   4.0  \n",
       "85851                6.0                   4.0  \n",
       "85852                NaN                   NaN  \n",
       "85853                NaN                   NaN  \n",
       "85854                NaN                   2.0  \n",
       "\n",
       "[5 rows x 22 columns]"
      ]
     },
     "execution_count": 5,
     "metadata": {},
     "output_type": "execute_result"
    }
   ],
   "source": [
    "df.tail()"
   ]
  },
  {
   "cell_type": "code",
   "execution_count": 6,
   "id": "a24e0368",
   "metadata": {},
   "outputs": [],
   "source": [
    "df.drop(['metascore','country','writer','production_company','description','budget','usa_gross_income',\n",
    "         'worlwide_gross_income','metascore','reviews_from_users','reviews_from_critics','title','original_title',\n",
    "        'date_published','actors','imdb_title_id'],axis=1,inplace=True)"
   ]
  },
  {
   "cell_type": "code",
   "execution_count": 7,
   "id": "e5cd7521",
   "metadata": {},
   "outputs": [
    {
     "data": {
      "text/html": [
       "<div>\n",
       "<style scoped>\n",
       "    .dataframe tbody tr th:only-of-type {\n",
       "        vertical-align: middle;\n",
       "    }\n",
       "\n",
       "    .dataframe tbody tr th {\n",
       "        vertical-align: top;\n",
       "    }\n",
       "\n",
       "    .dataframe thead th {\n",
       "        text-align: right;\n",
       "    }\n",
       "</style>\n",
       "<table border=\"1\" class=\"dataframe\">\n",
       "  <thead>\n",
       "    <tr style=\"text-align: right;\">\n",
       "      <th></th>\n",
       "      <th>year</th>\n",
       "      <th>genre</th>\n",
       "      <th>duration</th>\n",
       "      <th>language</th>\n",
       "      <th>director</th>\n",
       "      <th>avg_vote</th>\n",
       "      <th>votes</th>\n",
       "    </tr>\n",
       "  </thead>\n",
       "  <tbody>\n",
       "    <tr>\n",
       "      <th>0</th>\n",
       "      <td>1894</td>\n",
       "      <td>Romance</td>\n",
       "      <td>45</td>\n",
       "      <td>None</td>\n",
       "      <td>Alexander Black</td>\n",
       "      <td>5.9</td>\n",
       "      <td>154</td>\n",
       "    </tr>\n",
       "    <tr>\n",
       "      <th>1</th>\n",
       "      <td>1906</td>\n",
       "      <td>Biography, Crime, Drama</td>\n",
       "      <td>70</td>\n",
       "      <td>None</td>\n",
       "      <td>Charles Tait</td>\n",
       "      <td>6.1</td>\n",
       "      <td>589</td>\n",
       "    </tr>\n",
       "    <tr>\n",
       "      <th>2</th>\n",
       "      <td>1911</td>\n",
       "      <td>Drama</td>\n",
       "      <td>53</td>\n",
       "      <td>NaN</td>\n",
       "      <td>Urban Gad</td>\n",
       "      <td>5.8</td>\n",
       "      <td>188</td>\n",
       "    </tr>\n",
       "    <tr>\n",
       "      <th>3</th>\n",
       "      <td>1912</td>\n",
       "      <td>Drama, History</td>\n",
       "      <td>100</td>\n",
       "      <td>English</td>\n",
       "      <td>Charles L. Gaskill</td>\n",
       "      <td>5.2</td>\n",
       "      <td>446</td>\n",
       "    </tr>\n",
       "    <tr>\n",
       "      <th>4</th>\n",
       "      <td>1911</td>\n",
       "      <td>Adventure, Drama, Fantasy</td>\n",
       "      <td>68</td>\n",
       "      <td>Italian</td>\n",
       "      <td>Francesco Bertolini, Adolfo Padovan</td>\n",
       "      <td>7.0</td>\n",
       "      <td>2237</td>\n",
       "    </tr>\n",
       "  </tbody>\n",
       "</table>\n",
       "</div>"
      ],
      "text/plain": [
       "   year                      genre  duration language  \\\n",
       "0  1894                    Romance        45     None   \n",
       "1  1906    Biography, Crime, Drama        70     None   \n",
       "2  1911                      Drama        53      NaN   \n",
       "3  1912             Drama, History       100  English   \n",
       "4  1911  Adventure, Drama, Fantasy        68  Italian   \n",
       "\n",
       "                              director  avg_vote  votes  \n",
       "0                      Alexander Black       5.9    154  \n",
       "1                         Charles Tait       6.1    589  \n",
       "2                            Urban Gad       5.8    188  \n",
       "3                   Charles L. Gaskill       5.2    446  \n",
       "4  Francesco Bertolini, Adolfo Padovan       7.0   2237  "
      ]
     },
     "execution_count": 7,
     "metadata": {},
     "output_type": "execute_result"
    }
   ],
   "source": [
    "df.head()"
   ]
  },
  {
   "cell_type": "code",
   "execution_count": 8,
   "id": "ff61a250",
   "metadata": {},
   "outputs": [
    {
     "data": {
      "text/plain": [
       "year          0\n",
       "genre         0\n",
       "duration      0\n",
       "language    833\n",
       "director     87\n",
       "avg_vote      0\n",
       "votes         0\n",
       "dtype: int64"
      ]
     },
     "execution_count": 8,
     "metadata": {},
     "output_type": "execute_result"
    }
   ],
   "source": [
    "df.isnull().sum()"
   ]
  },
  {
   "cell_type": "code",
   "execution_count": 9,
   "id": "16007343",
   "metadata": {},
   "outputs": [],
   "source": [
    "df.dropna(inplace=True)"
   ]
  },
  {
   "cell_type": "code",
   "execution_count": 10,
   "id": "a7ba4aa4",
   "metadata": {},
   "outputs": [
    {
     "data": {
      "text/plain": [
       "year        0\n",
       "genre       0\n",
       "duration    0\n",
       "language    0\n",
       "director    0\n",
       "avg_vote    0\n",
       "votes       0\n",
       "dtype: int64"
      ]
     },
     "execution_count": 10,
     "metadata": {},
     "output_type": "execute_result"
    }
   ],
   "source": [
    "df.isnull().sum()"
   ]
  },
  {
   "cell_type": "code",
   "execution_count": 11,
   "id": "526267b8",
   "metadata": {},
   "outputs": [
    {
     "data": {
      "text/plain": [
       "year         object\n",
       "genre        object\n",
       "duration      int64\n",
       "language     object\n",
       "director     object\n",
       "avg_vote    float64\n",
       "votes         int64\n",
       "dtype: object"
      ]
     },
     "execution_count": 11,
     "metadata": {},
     "output_type": "execute_result"
    }
   ],
   "source": [
    "df.dtypes"
   ]
  },
  {
   "cell_type": "code",
   "execution_count": 12,
   "id": "fe49a5bd",
   "metadata": {},
   "outputs": [
    {
     "data": {
      "text/plain": [
       "array([1894, 1906, 1912, 1911, 1919, 1913, 1914, 1915, 1916, 1917, 1918,\n",
       "       1920, 1921, 1924, 1922, 1923, 1925, 1926, 1935, 1927, 1928, 1983,\n",
       "       1929, 1930, 1931, 1932, 1937, 1938, 1933, 1934, 1936, 1940, 1939,\n",
       "       1942, 1943, 1941, 1948, 1944, 2001, 1946, 1945, 1947, 1973, 1949,\n",
       "       1950, 1952, 1951, 1962, 1953, 1954, 1955, 1961, 1956, 1958, 1957,\n",
       "       1959, 1960, 1963, 1965, 1971, 1964, 1966, 1968, 1967, 1969, 1976,\n",
       "       1970, 1979, 1972, 1981, 1978, 2000, 1989, 1975, 1974, 1986, 1990,\n",
       "       2018, 1977, 1982, 1980, 1993, 1984, 1985, 1988, 1987, 2005, 1991,\n",
       "       2002, 1994, 1992, 1995, 2017, 1997, 1996, 2006, 1999, 1998, 2007,\n",
       "       2008, 2003, 2004, 2010, 2009, 2011, 2013, 2012, 2016, 2015, 2014,\n",
       "       2019, 2020, '2012', '2015', '2009', '2013', '2018', '2014', '2017',\n",
       "       '2011', '2016', '1981', '1975', '2010', '1984', '2007', '2006',\n",
       "       '2001', '2004', '1979', '2019', '1967', '1978', '2003', '2005',\n",
       "       '1969', '1990', '1983', '2002', '1996', '2008', '1995', '1999',\n",
       "       '1974', '1993', '1998', '1989', '2020', '1966', '1956', '1962',\n",
       "       '1985', '2000', '1971', '1970', '1986', '1976', '1982', '1992',\n",
       "       '1963', '1994', '1964', '1997', '1987', '1980', 'TV Movie 2019',\n",
       "       '1988'], dtype=object)"
      ]
     },
     "execution_count": 12,
     "metadata": {},
     "output_type": "execute_result"
    }
   ],
   "source": [
    "df['year'].unique()"
   ]
  },
  {
   "cell_type": "code",
   "execution_count": 13,
   "id": "898ccee2",
   "metadata": {},
   "outputs": [],
   "source": [
    "df.replace({'TV Movie 2019':'2019'},inplace=True)"
   ]
  },
  {
   "cell_type": "code",
   "execution_count": 14,
   "id": "2b58469f",
   "metadata": {},
   "outputs": [],
   "source": [
    "df['year'] = df['year'].apply(pd.to_numeric)"
   ]
  },
  {
   "cell_type": "code",
   "execution_count": 15,
   "id": "a8e346ed",
   "metadata": {},
   "outputs": [
    {
     "data": {
      "text/plain": [
       "array([1894, 1906, 1912, 1911, 1919, 1913, 1914, 1915, 1916, 1917, 1918,\n",
       "       1920, 1921, 1924, 1922, 1923, 1925, 1926, 1935, 1927, 1928, 1983,\n",
       "       1929, 1930, 1931, 1932, 1937, 1938, 1933, 1934, 1936, 1940, 1939,\n",
       "       1942, 1943, 1941, 1948, 1944, 2001, 1946, 1945, 1947, 1973, 1949,\n",
       "       1950, 1952, 1951, 1962, 1953, 1954, 1955, 1961, 1956, 1958, 1957,\n",
       "       1959, 1960, 1963, 1965, 1971, 1964, 1966, 1968, 1967, 1969, 1976,\n",
       "       1970, 1979, 1972, 1981, 1978, 2000, 1989, 1975, 1974, 1986, 1990,\n",
       "       2018, 1977, 1982, 1980, 1993, 1984, 1985, 1988, 1987, 2005, 1991,\n",
       "       2002, 1994, 1992, 1995, 2017, 1997, 1996, 2006, 1999, 1998, 2007,\n",
       "       2008, 2003, 2004, 2010, 2009, 2011, 2013, 2012, 2016, 2015, 2014,\n",
       "       2019, 2020], dtype=int64)"
      ]
     },
     "execution_count": 15,
     "metadata": {},
     "output_type": "execute_result"
    }
   ],
   "source": [
    "df['year'].unique()"
   ]
  },
  {
   "cell_type": "code",
   "execution_count": 16,
   "id": "3516e754",
   "metadata": {},
   "outputs": [],
   "source": [
    "bad = list(df[df['avg_vote']<5].index)\n",
    "good = list(df[df['avg_vote']>=5].index)\n",
    "df.loc[bad,'avg_vote'] = 'bad'\n",
    "df.loc[good,'avg_vote'] = 'good'"
   ]
  },
  {
   "cell_type": "code",
   "execution_count": 17,
   "id": "8f021265",
   "metadata": {},
   "outputs": [],
   "source": [
    "none = list(df[df['language']=='None'].index)\n",
    "df.loc[none,'language'] = np.nan"
   ]
  },
  {
   "cell_type": "code",
   "execution_count": 18,
   "id": "d513f7f6",
   "metadata": {},
   "outputs": [
    {
     "data": {
      "text/plain": [
       "year         0\n",
       "genre        0\n",
       "duration     0\n",
       "language    68\n",
       "director     0\n",
       "avg_vote     0\n",
       "votes        0\n",
       "dtype: int64"
      ]
     },
     "execution_count": 18,
     "metadata": {},
     "output_type": "execute_result"
    }
   ],
   "source": [
    "df.isnull().sum()"
   ]
  },
  {
   "cell_type": "code",
   "execution_count": 19,
   "id": "4be027ae",
   "metadata": {},
   "outputs": [],
   "source": [
    "df.dropna(inplace=True)"
   ]
  },
  {
   "cell_type": "code",
   "execution_count": 20,
   "id": "cb7fa79a",
   "metadata": {},
   "outputs": [
    {
     "data": {
      "text/plain": [
       "year         int64\n",
       "genre       object\n",
       "duration     int64\n",
       "language    object\n",
       "director    object\n",
       "avg_vote    object\n",
       "votes        int64\n",
       "dtype: object"
      ]
     },
     "execution_count": 20,
     "metadata": {},
     "output_type": "execute_result"
    }
   ],
   "source": [
    "df.dtypes"
   ]
  },
  {
   "cell_type": "code",
   "execution_count": 21,
   "id": "e96c0730",
   "metadata": {},
   "outputs": [
    {
     "data": {
      "text/plain": [
       "good    67981\n",
       "bad     16897\n",
       "Name: avg_vote, dtype: int64"
      ]
     },
     "execution_count": 21,
     "metadata": {},
     "output_type": "execute_result"
    }
   ],
   "source": [
    "df['avg_vote'].value_counts()"
   ]
  },
  {
   "cell_type": "markdown",
   "id": "b34baa89",
   "metadata": {},
   "source": [
    "# label encoding dataset"
   ]
  },
  {
   "cell_type": "code",
   "execution_count": 22,
   "id": "5f16429d",
   "metadata": {},
   "outputs": [],
   "source": [
    "types=list(df.dtypes)\n",
    "cols=list(df.columns)"
   ]
  },
  {
   "cell_type": "code",
   "execution_count": 23,
   "id": "a18b8393",
   "metadata": {},
   "outputs": [],
   "source": [
    "le = preprocessing.LabelEncoder()\n",
    "for i in range(len(cols)):\n",
    "    if(types[i]==object):\n",
    "        df[cols[i]]= le.fit_transform(df[cols[i]])"
   ]
  },
  {
   "cell_type": "code",
   "execution_count": 24,
   "id": "999d3856",
   "metadata": {},
   "outputs": [
    {
     "data": {
      "text/plain": [
       "year        int64\n",
       "genre       int32\n",
       "duration    int64\n",
       "language    int32\n",
       "director    int32\n",
       "avg_vote    int32\n",
       "votes       int64\n",
       "dtype: object"
      ]
     },
     "execution_count": 24,
     "metadata": {},
     "output_type": "execute_result"
    }
   ],
   "source": [
    "df.dtypes"
   ]
  },
  {
   "cell_type": "code",
   "execution_count": 25,
   "id": "8c333bae",
   "metadata": {},
   "outputs": [
    {
     "data": {
      "text/plain": [
       "1    67981\n",
       "0    16897\n",
       "Name: avg_vote, dtype: int64"
      ]
     },
     "execution_count": 25,
     "metadata": {},
     "output_type": "execute_result"
    }
   ],
   "source": [
    "df['avg_vote'].value_counts()"
   ]
  },
  {
   "cell_type": "code",
   "execution_count": 26,
   "id": "f5e9a11d",
   "metadata": {},
   "outputs": [
    {
     "data": {
      "text/html": [
       "<div>\n",
       "<style scoped>\n",
       "    .dataframe tbody tr th:only-of-type {\n",
       "        vertical-align: middle;\n",
       "    }\n",
       "\n",
       "    .dataframe tbody tr th {\n",
       "        vertical-align: top;\n",
       "    }\n",
       "\n",
       "    .dataframe thead th {\n",
       "        text-align: right;\n",
       "    }\n",
       "</style>\n",
       "<table border=\"1\" class=\"dataframe\">\n",
       "  <thead>\n",
       "    <tr style=\"text-align: right;\">\n",
       "      <th></th>\n",
       "      <th>year</th>\n",
       "      <th>genre</th>\n",
       "      <th>duration</th>\n",
       "      <th>language</th>\n",
       "      <th>director</th>\n",
       "      <th>avg_vote</th>\n",
       "      <th>votes</th>\n",
       "    </tr>\n",
       "  </thead>\n",
       "  <tbody>\n",
       "    <tr>\n",
       "      <th>3</th>\n",
       "      <td>1912</td>\n",
       "      <td>764</td>\n",
       "      <td>100</td>\n",
       "      <td>525</td>\n",
       "      <td>5067</td>\n",
       "      <td>1</td>\n",
       "      <td>446</td>\n",
       "    </tr>\n",
       "    <tr>\n",
       "      <th>4</th>\n",
       "      <td>1911</td>\n",
       "      <td>222</td>\n",
       "      <td>68</td>\n",
       "      <td>2835</td>\n",
       "      <td>9811</td>\n",
       "      <td>1</td>\n",
       "      <td>2237</td>\n",
       "    </tr>\n",
       "    <tr>\n",
       "      <th>5</th>\n",
       "      <td>1912</td>\n",
       "      <td>426</td>\n",
       "      <td>60</td>\n",
       "      <td>525</td>\n",
       "      <td>29444</td>\n",
       "      <td>1</td>\n",
       "      <td>484</td>\n",
       "    </tr>\n",
       "    <tr>\n",
       "      <th>6</th>\n",
       "      <td>1919</td>\n",
       "      <td>435</td>\n",
       "      <td>85</td>\n",
       "      <td>2290</td>\n",
       "      <td>9189</td>\n",
       "      <td>1</td>\n",
       "      <td>753</td>\n",
       "    </tr>\n",
       "    <tr>\n",
       "      <th>7</th>\n",
       "      <td>1913</td>\n",
       "      <td>764</td>\n",
       "      <td>120</td>\n",
       "      <td>2835</td>\n",
       "      <td>8910</td>\n",
       "      <td>1</td>\n",
       "      <td>273</td>\n",
       "    </tr>\n",
       "    <tr>\n",
       "      <th>...</th>\n",
       "      <td>...</td>\n",
       "      <td>...</td>\n",
       "      <td>...</td>\n",
       "      <td>...</td>\n",
       "      <td>...</td>\n",
       "      <td>...</td>\n",
       "      <td>...</td>\n",
       "    </tr>\n",
       "    <tr>\n",
       "      <th>85850</th>\n",
       "      <td>2020</td>\n",
       "      <td>464</td>\n",
       "      <td>95</td>\n",
       "      <td>1929</td>\n",
       "      <td>19390</td>\n",
       "      <td>1</td>\n",
       "      <td>398</td>\n",
       "    </tr>\n",
       "    <tr>\n",
       "      <th>85851</th>\n",
       "      <td>2020</td>\n",
       "      <td>492</td>\n",
       "      <td>103</td>\n",
       "      <td>2309</td>\n",
       "      <td>15363</td>\n",
       "      <td>1</td>\n",
       "      <td>724</td>\n",
       "    </tr>\n",
       "    <tr>\n",
       "      <th>85852</th>\n",
       "      <td>2019</td>\n",
       "      <td>696</td>\n",
       "      <td>130</td>\n",
       "      <td>3216</td>\n",
       "      <td>32794</td>\n",
       "      <td>1</td>\n",
       "      <td>265</td>\n",
       "    </tr>\n",
       "    <tr>\n",
       "      <th>85853</th>\n",
       "      <td>2019</td>\n",
       "      <td>729</td>\n",
       "      <td>98</td>\n",
       "      <td>4254</td>\n",
       "      <td>493</td>\n",
       "      <td>1</td>\n",
       "      <td>194</td>\n",
       "    </tr>\n",
       "    <tr>\n",
       "      <th>85854</th>\n",
       "      <td>2019</td>\n",
       "      <td>696</td>\n",
       "      <td>74</td>\n",
       "      <td>269</td>\n",
       "      <td>18578</td>\n",
       "      <td>1</td>\n",
       "      <td>102</td>\n",
       "    </tr>\n",
       "  </tbody>\n",
       "</table>\n",
       "<p>84878 rows × 7 columns</p>\n",
       "</div>"
      ],
      "text/plain": [
       "       year  genre  duration  language  director  avg_vote  votes\n",
       "3      1912    764       100       525      5067         1    446\n",
       "4      1911    222        68      2835      9811         1   2237\n",
       "5      1912    426        60       525     29444         1    484\n",
       "6      1919    435        85      2290      9189         1    753\n",
       "7      1913    764       120      2835      8910         1    273\n",
       "...     ...    ...       ...       ...       ...       ...    ...\n",
       "85850  2020    464        95      1929     19390         1    398\n",
       "85851  2020    492       103      2309     15363         1    724\n",
       "85852  2019    696       130      3216     32794         1    265\n",
       "85853  2019    729        98      4254       493         1    194\n",
       "85854  2019    696        74       269     18578         1    102\n",
       "\n",
       "[84878 rows x 7 columns]"
      ]
     },
     "execution_count": 26,
     "metadata": {},
     "output_type": "execute_result"
    }
   ],
   "source": [
    "df"
   ]
  },
  {
   "cell_type": "code",
   "execution_count": 27,
   "id": "68a4c7d2",
   "metadata": {},
   "outputs": [
    {
     "data": {
      "text/plain": [
       "1    67981\n",
       "0    16897\n",
       "Name: avg_vote, dtype: int64"
      ]
     },
     "execution_count": 27,
     "metadata": {},
     "output_type": "execute_result"
    }
   ],
   "source": [
    "df['avg_vote'].value_counts()"
   ]
  },
  {
   "cell_type": "code",
   "execution_count": 28,
   "id": "cd172c8a",
   "metadata": {},
   "outputs": [],
   "source": [
    "x=df.drop(['avg_vote'], axis = 1)\n",
    "y=df['avg_vote']"
   ]
  },
  {
   "cell_type": "markdown",
   "id": "02e689ee",
   "metadata": {},
   "source": [
    "# train test split"
   ]
  },
  {
   "cell_type": "code",
   "execution_count": 29,
   "id": "28a7fbee",
   "metadata": {},
   "outputs": [],
   "source": [
    "xtrain,xtest,ytrain,ytest=train_test_split(x, y, test_size=0.2, random_state=1)"
   ]
  },
  {
   "cell_type": "code",
   "execution_count": 30,
   "id": "f5b3dccb",
   "metadata": {},
   "outputs": [
    {
     "data": {
      "text/plain": [
       "1    54415\n",
       "0    13487\n",
       "Name: avg_vote, dtype: int64"
      ]
     },
     "execution_count": 30,
     "metadata": {},
     "output_type": "execute_result"
    }
   ],
   "source": [
    "ytrain.value_counts()"
   ]
  },
  {
   "cell_type": "code",
   "execution_count": 31,
   "id": "aa45434b",
   "metadata": {},
   "outputs": [
    {
     "data": {
      "text/plain": [
       "1    13566\n",
       "0     3410\n",
       "Name: avg_vote, dtype: int64"
      ]
     },
     "execution_count": 31,
     "metadata": {},
     "output_type": "execute_result"
    }
   ],
   "source": [
    "ytest.value_counts()"
   ]
  },
  {
   "cell_type": "code",
   "execution_count": 32,
   "id": "64eaa313",
   "metadata": {},
   "outputs": [],
   "source": [
    "x=xtest\n",
    "y=ytest\n",
    "xtest,xval,ytest,yval=train_test_split(x, y, test_size=0.001, random_state=1)"
   ]
  },
  {
   "cell_type": "markdown",
   "id": "8cd9a2a9",
   "metadata": {},
   "source": [
    "# downsampling the majority class"
   ]
  },
  {
   "cell_type": "code",
   "execution_count": 33,
   "id": "377837c2",
   "metadata": {},
   "outputs": [],
   "source": [
    "x = pd.concat([xtrain,ytrain], axis=1)"
   ]
  },
  {
   "cell_type": "code",
   "execution_count": 34,
   "id": "a571ebe4",
   "metadata": {},
   "outputs": [],
   "source": [
    "bad=x[x['avg_vote']==0]\n",
    "good = x[x['avg_vote']==1]"
   ]
  },
  {
   "cell_type": "code",
   "execution_count": 35,
   "id": "367d5066",
   "metadata": {},
   "outputs": [],
   "source": [
    "n=len(good)\n",
    "downsampled = resample(good,replace = False,n_samples = int(n/2),random_state = 27)\n",
    "downsampled = pd.concat([bad,downsampled])"
   ]
  },
  {
   "cell_type": "code",
   "execution_count": 36,
   "id": "a7031ea8",
   "metadata": {},
   "outputs": [
    {
     "data": {
      "text/plain": [
       "1    27207\n",
       "0    13487\n",
       "Name: avg_vote, dtype: int64"
      ]
     },
     "execution_count": 36,
     "metadata": {},
     "output_type": "execute_result"
    }
   ],
   "source": [
    "downsampled['avg_vote'].value_counts()"
   ]
  },
  {
   "cell_type": "markdown",
   "id": "700ef9c5",
   "metadata": {},
   "source": [
    "# upsampling the minority class"
   ]
  },
  {
   "cell_type": "code",
   "execution_count": 37,
   "id": "ccafc8dd",
   "metadata": {},
   "outputs": [
    {
     "data": {
      "text/plain": [
       "1    27207\n",
       "0    13487\n",
       "Name: avg_vote, dtype: int64"
      ]
     },
     "execution_count": 37,
     "metadata": {},
     "output_type": "execute_result"
    }
   ],
   "source": [
    "downsampled['avg_vote'].value_counts()"
   ]
  },
  {
   "cell_type": "code",
   "execution_count": 38,
   "id": "44da2f72",
   "metadata": {},
   "outputs": [],
   "source": [
    "bad=downsampled[downsampled['avg_vote']==0]\n",
    "good=downsampled[downsampled['avg_vote']==1]\n",
    "bad_len=len(downsampled[downsampled['avg_vote']==0])\n",
    "upsampled = resample(bad,replace=True,n_samples=bad_len*2,random_state=27)\n",
    "upsampled = pd.concat([good, upsampled])\n"
   ]
  },
  {
   "cell_type": "code",
   "execution_count": 39,
   "id": "96bcaec7",
   "metadata": {},
   "outputs": [
    {
     "data": {
      "text/plain": [
       "1    27207\n",
       "0    26974\n",
       "Name: avg_vote, dtype: int64"
      ]
     },
     "execution_count": 39,
     "metadata": {},
     "output_type": "execute_result"
    }
   ],
   "source": [
    "upsampled['avg_vote'].value_counts()"
   ]
  },
  {
   "cell_type": "markdown",
   "id": "2685a514",
   "metadata": {},
   "source": [
    "# splitting dataset after upsampling and downsampling"
   ]
  },
  {
   "cell_type": "code",
   "execution_count": 40,
   "id": "4f82c697",
   "metadata": {},
   "outputs": [],
   "source": [
    "xtrain=upsampled.drop(['avg_vote'],axis=1)\n",
    "ytrain=upsampled['avg_vote']"
   ]
  },
  {
   "cell_type": "markdown",
   "id": "0710b92f",
   "metadata": {},
   "source": [
    "# training model using bagging"
   ]
  },
  {
   "cell_type": "code",
   "execution_count": 41,
   "id": "563a09cb",
   "metadata": {},
   "outputs": [],
   "source": [
    "from sklearn.ensemble import BaggingClassifier"
   ]
  },
  {
   "cell_type": "markdown",
   "id": "3fd90ec3",
   "metadata": {},
   "source": [
    "# logistic regression"
   ]
  },
  {
   "cell_type": "code",
   "execution_count": 42,
   "id": "9c5b8f2d",
   "metadata": {},
   "outputs": [],
   "source": [
    "lr= BaggingClassifier(base_estimator=LogisticRegression(),n_estimators=19, random_state=0).fit(xtrain,ytrain)"
   ]
  },
  {
   "cell_type": "code",
   "execution_count": 43,
   "id": "405763f8",
   "metadata": {},
   "outputs": [
    {
     "name": "stdout",
     "output_type": "stream",
     "text": [
      "0.586944984963736\n"
     ]
    }
   ],
   "source": [
    "lr_accuracy=lr.score(xtest,ytest)\n",
    "print(lr_accuracy)"
   ]
  },
  {
   "cell_type": "code",
   "execution_count": 44,
   "id": "d7030d84",
   "metadata": {},
   "outputs": [
    {
     "data": {
      "image/png": "[encoded data removed]",
      "text/plain": [
       "<Figure size 432x288 with 2 Axes>"
      ]
     },
     "metadata": {
      "needs_background": "light"
     },
     "output_type": "display_data"
    }
   ],
   "source": [
    "plot_confusion_matrix(lr, xtest, ytest)\n",
    "plt.show()"
   ]
  },
  {
   "cell_type": "code",
   "execution_count": 45,
   "id": "ebf30bb6",
   "metadata": {},
   "outputs": [],
   "source": [
    "ypredict=lr.predict(xtest)"
   ]
  },
  {
   "cell_type": "code",
   "execution_count": 46,
   "id": "f1f91b27",
   "metadata": {},
   "outputs": [
    {
     "name": "stdout",
     "output_type": "stream",
     "text": [
      "f1 score =  0.5469993037272946\n",
      "precision =  0.588234111520757\n",
      "recall =  0.6374021196203802\n"
     ]
    }
   ],
   "source": [
    "print('f1 score = ',f1_score(ytest, ypredict, average=\"macro\"))\n",
    "print('precision = ',precision_score(ytest, ypredict, average=\"macro\"))\n",
    "print('recall = ',recall_score(ytest, ypredict, average=\"macro\"))"
   ]
  },
  {
   "cell_type": "code",
   "execution_count": 47,
   "id": "2050b515",
   "metadata": {},
   "outputs": [],
   "source": [
    "lr_f1score = f1_score(ytest, ypredict, average=\"macro\")\n",
    "lr_precision = precision_score(ytest, ypredict, average=\"macro\")\n",
    "lr_recall = recall_score(ytest, ypredict, average=\"macro\")"
   ]
  },
  {
   "cell_type": "markdown",
   "id": "33c755aa",
   "metadata": {},
   "source": [
    "# decision tree"
   ]
  },
  {
   "cell_type": "code",
   "execution_count": 48,
   "id": "5a673e16",
   "metadata": {},
   "outputs": [],
   "source": [
    "dt = BaggingClassifier(base_estimator=tree.DecisionTreeClassifier(),n_estimators=19, random_state=0).fit(xtrain,ytrain)"
   ]
  },
  {
   "cell_type": "code",
   "execution_count": 49,
   "id": "821e025a",
   "metadata": {},
   "outputs": [
    {
     "name": "stdout",
     "output_type": "stream",
     "text": [
      "0.8141989504098119\n"
     ]
    }
   ],
   "source": [
    "dt_accuracy=dt.score(xtest,ytest)\n",
    "print(dt_accuracy)"
   ]
  },
  {
   "cell_type": "code",
   "execution_count": 50,
   "id": "2670f72a",
   "metadata": {},
   "outputs": [
    {
     "data": {
      "image/png": "[encoded data removed]",
      "text/plain": [
       "<Figure size 432x288 with 2 Axes>"
      ]
     },
     "metadata": {
      "needs_background": "light"
     },
     "output_type": "display_data"
    }
   ],
   "source": [
    "plot_confusion_matrix(dt, xtest, ytest)\n",
    "plt.show()"
   ]
  },
  {
   "cell_type": "code",
   "execution_count": 51,
   "id": "cf27198e",
   "metadata": {},
   "outputs": [],
   "source": [
    "ypredict=dt.predict(xtest)"
   ]
  },
  {
   "cell_type": "code",
   "execution_count": 52,
   "id": "89b4933f",
   "metadata": {},
   "outputs": [
    {
     "name": "stdout",
     "output_type": "stream",
     "text": [
      "f1 score =  0.7321556537184963\n",
      "precision =  0.718618144696945\n",
      "recall =  0.7523494388246437\n"
     ]
    }
   ],
   "source": [
    "print('f1 score = ',f1_score(ytest, ypredict, average=\"macro\"))\n",
    "print('precision = ',precision_score(ytest, ypredict, average=\"macro\"))\n",
    "print('recall = ',recall_score(ytest, ypredict, average=\"macro\"))"
   ]
  },
  {
   "cell_type": "code",
   "execution_count": 53,
   "id": "b2688150",
   "metadata": {},
   "outputs": [],
   "source": [
    "dt_f1score = f1_score(ytest, ypredict, average=\"macro\")\n",
    "dt_precision = precision_score(ytest, ypredict, average=\"macro\")\n",
    "dt_recall = recall_score(ytest, ypredict, average=\"macro\")"
   ]
  },
  {
   "cell_type": "markdown",
   "id": "d41e4b56",
   "metadata": {},
   "source": [
    "# k nearest neighbour"
   ]
  },
  {
   "cell_type": "code",
   "execution_count": 54,
   "id": "d2060640",
   "metadata": {},
   "outputs": [],
   "source": [
    "knn = BaggingClassifier(base_estimator=KNeighborsClassifier(),n_estimators=19, random_state=0).fit(xtrain,ytrain)"
   ]
  },
  {
   "cell_type": "code",
   "execution_count": 55,
   "id": "ec2a9365",
   "metadata": {},
   "outputs": [
    {
     "name": "stdout",
     "output_type": "stream",
     "text": [
      "0.676631876879533\n"
     ]
    }
   ],
   "source": [
    "knn_accuracy=knn.score(xtest,ytest)\n",
    "print(knn_accuracy)"
   ]
  },
  {
   "cell_type": "code",
   "execution_count": 56,
   "id": "3b79ae54",
   "metadata": {},
   "outputs": [
    {
     "data": {
      "image/png": "[encoded data removed]",
      "text/plain": [
       "<Figure size 432x288 with 2 Axes>"
      ]
     },
     "metadata": {
      "needs_background": "light"
     },
     "output_type": "display_data"
    }
   ],
   "source": [
    "plot_confusion_matrix(knn, xtest, ytest)\n",
    "plt.show()"
   ]
  },
  {
   "cell_type": "code",
   "execution_count": 57,
   "id": "cf51a968",
   "metadata": {},
   "outputs": [],
   "source": [
    "ypredict=knn.predict(xtest)"
   ]
  },
  {
   "cell_type": "code",
   "execution_count": 58,
   "id": "90d6676f",
   "metadata": {},
   "outputs": [
    {
     "name": "stdout",
     "output_type": "stream",
     "text": [
      "f1 score =  0.6072726614902513\n",
      "precision =  0.6106581024645783\n",
      "recall =  0.6622086979581243\n"
     ]
    }
   ],
   "source": [
    "print('f1 score = ',f1_score(ytest, ypredict, average=\"macro\"))\n",
    "print('precision = ',precision_score(ytest, ypredict, average=\"macro\"))\n",
    "print('recall = ',recall_score(ytest, ypredict, average=\"macro\"))"
   ]
  },
  {
   "cell_type": "code",
   "execution_count": 59,
   "id": "52b8d74e",
   "metadata": {},
   "outputs": [],
   "source": [
    "knn_f1score = f1_score(ytest, ypredict, average=\"macro\")\n",
    "knn_precision = precision_score(ytest, ypredict, average=\"macro\")\n",
    "knn_recall = recall_score(ytest, ypredict, average=\"macro\")"
   ]
  },
  {
   "cell_type": "markdown",
   "id": "48bb9a63",
   "metadata": {},
   "source": [
    "# naive bayes"
   ]
  },
  {
   "cell_type": "code",
   "execution_count": 60,
   "id": "2910e0a8",
   "metadata": {},
   "outputs": [],
   "source": [
    "nb = BaggingClassifier(base_estimator=GaussianNB(),n_estimators=19, random_state=0).fit(xtrain,ytrain)"
   ]
  },
  {
   "cell_type": "code",
   "execution_count": 61,
   "id": "a42e0862",
   "metadata": {},
   "outputs": [
    {
     "name": "stdout",
     "output_type": "stream",
     "text": [
      "0.4201898696857126\n"
     ]
    }
   ],
   "source": [
    "nb_accuracy = nb.score(xtest,ytest)\n",
    "print(nb_accuracy)"
   ]
  },
  {
   "cell_type": "code",
   "execution_count": 62,
   "id": "3025b89a",
   "metadata": {},
   "outputs": [
    {
     "data": {
      "image/png": "[encoded data removed]",
      "text/plain": [
       "<Figure size 432x288 with 2 Axes>"
      ]
     },
     "metadata": {
      "needs_background": "light"
     },
     "output_type": "display_data"
    }
   ],
   "source": [
    "plot_confusion_matrix(nb, xtest, ytest)\n",
    "plt.show()"
   ]
  },
  {
   "cell_type": "code",
   "execution_count": 63,
   "id": "fa8d3107",
   "metadata": {},
   "outputs": [],
   "source": [
    "ypredict=nb.predict(xtest)"
   ]
  },
  {
   "cell_type": "code",
   "execution_count": 64,
   "id": "52981a78",
   "metadata": {},
   "outputs": [
    {
     "name": "stdout",
     "output_type": "stream",
     "text": [
      "f1 score =  0.4191076452332281\n",
      "precision =  0.5993195410348426\n",
      "recall =  0.6141412512228279\n"
     ]
    }
   ],
   "source": [
    "print('f1 score = ',f1_score(ytest, ypredict, average=\"macro\"))\n",
    "print('precision = ',precision_score(ytest, ypredict, average=\"macro\"))\n",
    "print('recall = ',recall_score(ytest, ypredict, average=\"macro\"))"
   ]
  },
  {
   "cell_type": "code",
   "execution_count": 65,
   "id": "6ddd2049",
   "metadata": {},
   "outputs": [],
   "source": [
    "nb_f1score = f1_score(ytest, ypredict, average=\"macro\")\n",
    "nb_precision = precision_score(ytest, ypredict, average=\"macro\")\n",
    "nb_recall = recall_score(ytest, ypredict, average=\"macro\")"
   ]
  },
  {
   "cell_type": "markdown",
   "id": "a1359cf6",
   "metadata": {},
   "source": [
    "# support vector machine"
   ]
  },
  {
   "cell_type": "code",
   "execution_count": 66,
   "id": "1d40747b",
   "metadata": {},
   "outputs": [],
   "source": [
    "from sklearn import svm\n",
    "svm1 = svm.SVC()\n",
    "svm = BaggingClassifier(base_estimator=svm1,n_estimators=5, random_state=0).fit(xtrain,ytrain)"
   ]
  },
  {
   "cell_type": "code",
   "execution_count": 67,
   "id": "da7e67f2",
   "metadata": {},
   "outputs": [
    {
     "name": "stdout",
     "output_type": "stream",
     "text": [
      "0.5826994516186096\n"
     ]
    }
   ],
   "source": [
    "svm_accuracy=svm.score(xtest,ytest)\n",
    "print(svm_accuracy)"
   ]
  },
  {
   "cell_type": "code",
   "execution_count": 68,
   "id": "cebd2c13",
   "metadata": {},
   "outputs": [
    {
     "data": {
      "image/png": "[encoded data removed]",
      "text/plain": [
       "<Figure size 432x288 with 2 Axes>"
      ]
     },
     "metadata": {
      "needs_background": "light"
     },
     "output_type": "display_data"
    }
   ],
   "source": [
    "plot_confusion_matrix(svm, xtest, ytest)\n",
    "plt.show()"
   ]
  },
  {
   "cell_type": "code",
   "execution_count": 69,
   "id": "13c10cae",
   "metadata": {},
   "outputs": [],
   "source": [
    "ypredict=svm.predict(xtest)"
   ]
  },
  {
   "cell_type": "code",
   "execution_count": 70,
   "id": "a3860631",
   "metadata": {},
   "outputs": [
    {
     "name": "stdout",
     "output_type": "stream",
     "text": [
      "f1 score =  0.5404164387218852\n",
      "precision =  0.5801830798941727\n",
      "recall =  0.6248581272704401\n"
     ]
    }
   ],
   "source": [
    "print('f1 score = ',f1_score(ytest, ypredict, average=\"macro\"))\n",
    "print('precision = ',precision_score(ytest, ypredict, average=\"macro\"))\n",
    "print('recall = ',recall_score(ytest, ypredict, average=\"macro\"))"
   ]
  },
  {
   "cell_type": "code",
   "execution_count": 71,
   "id": "31483ee6",
   "metadata": {},
   "outputs": [],
   "source": [
    "svm_f1score = f1_score(ytest, ypredict, average=\"macro\")\n",
    "svm_precision = precision_score(ytest, ypredict, average=\"macro\")\n",
    "svm_recall = recall_score(ytest, ypredict, average=\"macro\")"
   ]
  },
  {
   "cell_type": "markdown",
   "id": "f00a7e98",
   "metadata": {},
   "source": [
    "# random forest classifier"
   ]
  },
  {
   "cell_type": "code",
   "execution_count": 72,
   "id": "5e5c96e0",
   "metadata": {},
   "outputs": [],
   "source": [
    "rf = RandomForestClassifier(n_estimators = 19)"
   ]
  },
  {
   "cell_type": "code",
   "execution_count": 73,
   "id": "4ea86c10",
   "metadata": {},
   "outputs": [
    {
     "data": {
      "text/plain": [
       "RandomForestClassifier(n_estimators=19)"
      ]
     },
     "execution_count": 73,
     "metadata": {},
     "output_type": "execute_result"
    }
   ],
   "source": [
    "rf.fit(xtrain, ytrain)"
   ]
  },
  {
   "cell_type": "code",
   "execution_count": 74,
   "id": "429174e0",
   "metadata": {},
   "outputs": [
    {
     "name": "stdout",
     "output_type": "stream",
     "text": [
      "0.8173831004186568\n"
     ]
    }
   ],
   "source": [
    "rf_accuracy=rf.score(xtest,ytest)\n",
    "print(rf_accuracy)"
   ]
  },
  {
   "cell_type": "code",
   "execution_count": 75,
   "id": "dcf85661",
   "metadata": {},
   "outputs": [
    {
     "data": {
      "image/png": "[encoded data removed]",
      "text/plain": [
       "<Figure size 432x288 with 2 Axes>"
      ]
     },
     "metadata": {
      "needs_background": "light"
     },
     "output_type": "display_data"
    }
   ],
   "source": [
    "plot_confusion_matrix(rf, xtest, ytest)\n",
    "plt.show()"
   ]
  },
  {
   "cell_type": "code",
   "execution_count": 76,
   "id": "3ac3fb76",
   "metadata": {},
   "outputs": [],
   "source": [
    "ypredict=rf.predict(xtest)"
   ]
  },
  {
   "cell_type": "code",
   "execution_count": 77,
   "id": "05180521",
   "metadata": {},
   "outputs": [
    {
     "name": "stdout",
     "output_type": "stream",
     "text": [
      "f1 score =  0.734129758845288\n",
      "precision =  0.7217426813902996\n",
      "recall =  0.7515952208263492\n"
     ]
    }
   ],
   "source": [
    "print('f1 score = ',f1_score(ytest, ypredict, average=\"macro\"))\n",
    "print('precision = ',precision_score(ytest, ypredict, average=\"macro\"))\n",
    "print('recall = ',recall_score(ytest, ypredict, average=\"macro\"))"
   ]
  },
  {
   "cell_type": "code",
   "execution_count": 78,
   "id": "3bfd133d",
   "metadata": {},
   "outputs": [],
   "source": [
    "rf_f1score = f1_score(ytest, ypredict, average=\"macro\")\n",
    "rf_precision = precision_score(ytest, ypredict, average=\"macro\")\n",
    "rf_recall = recall_score(ytest, ypredict, average=\"macro\")"
   ]
  },
  {
   "cell_type": "markdown",
   "id": "edbe67bb",
   "metadata": {},
   "source": [
    "# graph /comparison and results"
   ]
  },
  {
   "cell_type": "code",
   "execution_count": 79,
   "id": "52cc5e26",
   "metadata": {},
   "outputs": [],
   "source": [
    "models=['logistic regression','decision tree','knn','naive bayes','svm','random forest classifier']\n",
    "accuracy=[lr_accuracy,dt_accuracy,knn_accuracy,nb_accuracy,svm_accuracy,rf_accuracy]\n",
    "precision=[lr_precision,dt_precision,knn_precision,nb_precision,svm_precision,rf_precision]\n",
    "recall=[lr_recall,dt_recall,knn_recall,nb_recall,svm_recall,rf_recall]\n",
    "f1score=[lr_f1score,dt_f1score,knn_f1score,nb_f1score,svm_f1score,rf_f1score]"
   ]
  },
  {
   "cell_type": "markdown",
   "id": "9e96236f",
   "metadata": {},
   "source": [
    "# accuracy graph"
   ]
  },
  {
   "cell_type": "code",
   "execution_count": 80,
   "id": "836e6a73",
   "metadata": {},
   "outputs": [
    {
     "data": {
      "image/png": "[encoded data removed]",
      "text/plain": [
       "<Figure size 720x504 with 1 Axes>"
      ]
     },
     "metadata": {
      "needs_background": "light"
     },
     "output_type": "display_data"
    }
   ],
   "source": [
    "fig = plt.figure(figsize =(10, 7))\n",
    "plt.bar(models, accuracy)\n",
    "plt.xlabel(\"model\")\n",
    "plt.ylabel(\"accuracy\")\n",
    "plt.title(\"accuracy graph\")\n",
    "plt.show()"
   ]
  },
  {
   "cell_type": "markdown",
   "id": "8064b90f",
   "metadata": {},
   "source": [
    "# precision graph"
   ]
  },
  {
   "cell_type": "code",
   "execution_count": 81,
   "id": "12cde2a3",
   "metadata": {},
   "outputs": [
    {
     "data": {
      "image/png": "[encoded data removed]",
      "text/plain": [
       "<Figure size 720x504 with 1 Axes>"
      ]
     },
     "metadata": {
      "needs_background": "light"
     },
     "output_type": "display_data"
    }
   ],
   "source": [
    "fig = plt.figure(figsize =(10, 7))\n",
    "plt.bar(models, precision)\n",
    "plt.xlabel(\"model\")\n",
    "plt.ylabel(\"precision\")\n",
    "plt.title(\"precision graph\")\n",
    "plt.show()"
   ]
  },
  {
   "cell_type": "markdown",
   "id": "49bef044",
   "metadata": {},
   "source": [
    "# recall graph"
   ]
  },
  {
   "cell_type": "code",
   "execution_count": 82,
   "id": "bc7f28a8",
   "metadata": {},
   "outputs": [
    {
     "data": {
      "image/png": "[encoded data removed]",
      "text/plain": [
       "<Figure size 720x504 with 1 Axes>"
      ]
     },
     "metadata": {
      "needs_background": "light"
     },
     "output_type": "display_data"
    }
   ],
   "source": [
    "fig = plt.figure(figsize =(10, 7))\n",
    "plt.bar(models, recall)\n",
    "plt.xlabel(\"model\")\n",
    "plt.ylabel(\"recall\")\n",
    "plt.title(\"recall graph\")\n",
    "plt.show()"
   ]
  },
  {
   "cell_type": "markdown",
   "id": "b6b23895",
   "metadata": {},
   "source": [
    "# f1 score graph"
   ]
  },
  {
   "cell_type": "code",
   "execution_count": 83,
   "id": "f7dba119",
   "metadata": {},
   "outputs": [
    {
     "data": {
      "image/png": "[encoded data removed]",
      "text/plain": [
       "<Figure size 720x504 with 1 Axes>"
      ]
     },
     "metadata": {
      "needs_background": "light"
     },
     "output_type": "display_data"
    }
   ],
   "source": [
    "fig = plt.figure(figsize =(10, 7))\n",
    "plt.bar(models, f1score)\n",
    "plt.xlabel(\"model\")\n",
    "plt.ylabel(\"f1 score\")\n",
    "plt.title(\"f1 score graph\")\n",
    "plt.show()"
   ]
  },
  {
   "cell_type": "markdown",
   "id": "579baa78",
   "metadata": {},
   "source": [
    "# as we can see from the graph accuracy, precision and recall is the highest for random forest classifier.\n"
   ]
  },
  {
   "cell_type": "markdown",
   "id": "0164dd5c",
   "metadata": {},
   "source": [
    "# hence that is the best model for our project."
   ]
  },
  {
   "cell_type": "markdown",
   "id": "03945771",
   "metadata": {},
   "source": [
    "# final prediction"
   ]
  },
  {
   "cell_type": "code",
   "execution_count": 84,
   "id": "fd4e6915",
   "metadata": {},
   "outputs": [],
   "source": [
    "val_df=pd.concat([xval,yval],axis=1)"
   ]
  },
  {
   "cell_type": "code",
   "execution_count": 85,
   "id": "f1721547",
   "metadata": {},
   "outputs": [
    {
     "data": {
      "text/html": [
       "<div>\n",
       "<style scoped>\n",
       "    .dataframe tbody tr th:only-of-type {\n",
       "        vertical-align: middle;\n",
       "    }\n",
       "\n",
       "    .dataframe tbody tr th {\n",
       "        vertical-align: top;\n",
       "    }\n",
       "\n",
       "    .dataframe thead th {\n",
       "        text-align: right;\n",
       "    }\n",
       "</style>\n",
       "<table border=\"1\" class=\"dataframe\">\n",
       "  <thead>\n",
       "    <tr style=\"text-align: right;\">\n",
       "      <th></th>\n",
       "      <th>year</th>\n",
       "      <th>genre</th>\n",
       "      <th>duration</th>\n",
       "      <th>language</th>\n",
       "      <th>director</th>\n",
       "      <th>votes</th>\n",
       "      <th>avg_vote</th>\n",
       "    </tr>\n",
       "  </thead>\n",
       "  <tbody>\n",
       "    <tr>\n",
       "      <th>36814</th>\n",
       "      <td>1989</td>\n",
       "      <td>818</td>\n",
       "      <td>113</td>\n",
       "      <td>3216</td>\n",
       "      <td>3584</td>\n",
       "      <td>177</td>\n",
       "      <td>1</td>\n",
       "    </tr>\n",
       "    <tr>\n",
       "      <th>73512</th>\n",
       "      <td>2018</td>\n",
       "      <td>696</td>\n",
       "      <td>123</td>\n",
       "      <td>680</td>\n",
       "      <td>33568</td>\n",
       "      <td>4870</td>\n",
       "      <td>1</td>\n",
       "    </tr>\n",
       "    <tr>\n",
       "      <th>19799</th>\n",
       "      <td>1982</td>\n",
       "      <td>64</td>\n",
       "      <td>81</td>\n",
       "      <td>3265</td>\n",
       "      <td>1979</td>\n",
       "      <td>160</td>\n",
       "      <td>1</td>\n",
       "    </tr>\n",
       "    <tr>\n",
       "      <th>56945</th>\n",
       "      <td>2009</td>\n",
       "      <td>696</td>\n",
       "      <td>88</td>\n",
       "      <td>1737</td>\n",
       "      <td>12664</td>\n",
       "      <td>645</td>\n",
       "      <td>1</td>\n",
       "    </tr>\n",
       "    <tr>\n",
       "      <th>65630</th>\n",
       "      <td>2015</td>\n",
       "      <td>0</td>\n",
       "      <td>78</td>\n",
       "      <td>525</td>\n",
       "      <td>21089</td>\n",
       "      <td>167</td>\n",
       "      <td>0</td>\n",
       "    </tr>\n",
       "    <tr>\n",
       "      <th>4146</th>\n",
       "      <td>1942</td>\n",
       "      <td>464</td>\n",
       "      <td>80</td>\n",
       "      <td>2739</td>\n",
       "      <td>8817</td>\n",
       "      <td>259</td>\n",
       "      <td>1</td>\n",
       "    </tr>\n",
       "    <tr>\n",
       "      <th>39059</th>\n",
       "      <td>2000</td>\n",
       "      <td>578</td>\n",
       "      <td>94</td>\n",
       "      <td>3231</td>\n",
       "      <td>12625</td>\n",
       "      <td>215</td>\n",
       "      <td>1</td>\n",
       "    </tr>\n",
       "    <tr>\n",
       "      <th>40505</th>\n",
       "      <td>1967</td>\n",
       "      <td>164</td>\n",
       "      <td>100</td>\n",
       "      <td>4254</td>\n",
       "      <td>30708</td>\n",
       "      <td>346</td>\n",
       "      <td>1</td>\n",
       "    </tr>\n",
       "    <tr>\n",
       "      <th>46047</th>\n",
       "      <td>2005</td>\n",
       "      <td>1207</td>\n",
       "      <td>85</td>\n",
       "      <td>1488</td>\n",
       "      <td>33212</td>\n",
       "      <td>111273</td>\n",
       "      <td>1</td>\n",
       "    </tr>\n",
       "    <tr>\n",
       "      <th>30285</th>\n",
       "      <td>1996</td>\n",
       "      <td>146</td>\n",
       "      <td>100</td>\n",
       "      <td>525</td>\n",
       "      <td>20554</td>\n",
       "      <td>213</td>\n",
       "      <td>0</td>\n",
       "    </tr>\n",
       "    <tr>\n",
       "      <th>54705</th>\n",
       "      <td>2008</td>\n",
       "      <td>696</td>\n",
       "      <td>97</td>\n",
       "      <td>1929</td>\n",
       "      <td>19566</td>\n",
       "      <td>854</td>\n",
       "      <td>1</td>\n",
       "    </tr>\n",
       "    <tr>\n",
       "      <th>13587</th>\n",
       "      <td>1968</td>\n",
       "      <td>1040</td>\n",
       "      <td>84</td>\n",
       "      <td>2986</td>\n",
       "      <td>11720</td>\n",
       "      <td>1435</td>\n",
       "      <td>1</td>\n",
       "    </tr>\n",
       "    <tr>\n",
       "      <th>39263</th>\n",
       "      <td>2000</td>\n",
       "      <td>696</td>\n",
       "      <td>102</td>\n",
       "      <td>2554</td>\n",
       "      <td>16261</td>\n",
       "      <td>531</td>\n",
       "      <td>1</td>\n",
       "    </tr>\n",
       "    <tr>\n",
       "      <th>39716</th>\n",
       "      <td>2003</td>\n",
       "      <td>623</td>\n",
       "      <td>108</td>\n",
       "      <td>525</td>\n",
       "      <td>23160</td>\n",
       "      <td>382</td>\n",
       "      <td>1</td>\n",
       "    </tr>\n",
       "    <tr>\n",
       "      <th>36332</th>\n",
       "      <td>2000</td>\n",
       "      <td>544</td>\n",
       "      <td>95</td>\n",
       "      <td>525</td>\n",
       "      <td>27101</td>\n",
       "      <td>5431</td>\n",
       "      <td>1</td>\n",
       "    </tr>\n",
       "    <tr>\n",
       "      <th>8241</th>\n",
       "      <td>1955</td>\n",
       "      <td>619</td>\n",
       "      <td>101</td>\n",
       "      <td>525</td>\n",
       "      <td>26510</td>\n",
       "      <td>7999</td>\n",
       "      <td>1</td>\n",
       "    </tr>\n",
       "    <tr>\n",
       "      <th>56026</th>\n",
       "      <td>2008</td>\n",
       "      <td>464</td>\n",
       "      <td>102</td>\n",
       "      <td>3559</td>\n",
       "      <td>20126</td>\n",
       "      <td>131</td>\n",
       "      <td>0</td>\n",
       "    </tr>\n",
       "  </tbody>\n",
       "</table>\n",
       "</div>"
      ],
      "text/plain": [
       "       year  genre  duration  language  director   votes  avg_vote\n",
       "36814  1989    818       113      3216      3584     177         1\n",
       "73512  2018    696       123       680     33568    4870         1\n",
       "19799  1982     64        81      3265      1979     160         1\n",
       "56945  2009    696        88      1737     12664     645         1\n",
       "65630  2015      0        78       525     21089     167         0\n",
       "4146   1942    464        80      2739      8817     259         1\n",
       "39059  2000    578        94      3231     12625     215         1\n",
       "40505  1967    164       100      4254     30708     346         1\n",
       "46047  2005   1207        85      1488     33212  111273         1\n",
       "30285  1996    146       100       525     20554     213         0\n",
       "54705  2008    696        97      1929     19566     854         1\n",
       "13587  1968   1040        84      2986     11720    1435         1\n",
       "39263  2000    696       102      2554     16261     531         1\n",
       "39716  2003    623       108       525     23160     382         1\n",
       "36332  2000    544        95       525     27101    5431         1\n",
       "8241   1955    619       101       525     26510    7999         1\n",
       "56026  2008    464       102      3559     20126     131         0"
      ]
     },
     "execution_count": 85,
     "metadata": {},
     "output_type": "execute_result"
    }
   ],
   "source": [
    "val_df"
   ]
  },
  {
   "cell_type": "code",
   "execution_count": 86,
   "id": "b7670195",
   "metadata": {},
   "outputs": [],
   "source": [
    "index=list(val_df.index)\n",
    "movie=[]\n",
    "for i in index:\n",
    "    movie.append(df1.iloc[i,1])"
   ]
  },
  {
   "cell_type": "code",
   "execution_count": 87,
   "id": "bc10f297",
   "metadata": {},
   "outputs": [
    {
     "name": "stdout",
     "output_type": "stream",
     "text": [
      "['Ulsavapittennu', 'La mia vita con John F. Donovan', 'Bruce Lee vive ancora', 'Miss Kicki', '11 Blocks', 'Egy bolond százat csinál', 'Yun zhuan shou zhi lian', 'Malkoçoglu - krallara karsi', 'Red Eye', 'Warhead', 'Maman est chez le coiffeur', 'Distruggete DC 59, da base spaziale a Hong Kong', 'Ha-Hesder', 'Undermind', 'Psycho Beach Party', 'Il seme della violenza', 'O Guerreiro Didi e a Ninja Lili']\n"
     ]
    }
   ],
   "source": [
    "print(movie)"
   ]
  },
  {
   "cell_type": "code",
   "execution_count": 88,
   "id": "a4bf8d0e",
   "metadata": {},
   "outputs": [
    {
     "data": {
      "text/plain": [
       "1    14\n",
       "0     3\n",
       "Name: avg_vote, dtype: int64"
      ]
     },
     "execution_count": 88,
     "metadata": {},
     "output_type": "execute_result"
    }
   ],
   "source": [
    "val_df['avg_vote'].value_counts()"
   ]
  },
  {
   "cell_type": "code",
   "execution_count": 89,
   "id": "68526edb",
   "metadata": {},
   "outputs": [],
   "source": [
    "final_predict=rf.predict(xval)"
   ]
  },
  {
   "cell_type": "code",
   "execution_count": 90,
   "id": "6984ad0b",
   "metadata": {},
   "outputs": [
    {
     "name": "stdout",
     "output_type": "stream",
     "text": [
      "[1, 1, 0, 1, 0, 1, 1, 1, 1, 0, 1, 1, 1, 0, 1, 1, 0] predicted output\n",
      "[1, 1, 1, 1, 0, 1, 1, 1, 1, 0, 1, 1, 1, 1, 1, 1, 0] actual output\n"
     ]
    }
   ],
   "source": [
    "print(list(final_predict),'predicted output')\n",
    "print(list(yval),'actual output')"
   ]
  },
  {
   "cell_type": "code",
   "execution_count": 91,
   "id": "ca28f98d",
   "metadata": {},
   "outputs": [
    {
     "data": {
      "text/html": [
       "<div>\n",
       "<style scoped>\n",
       "    .dataframe tbody tr th:only-of-type {\n",
       "        vertical-align: middle;\n",
       "    }\n",
       "\n",
       "    .dataframe tbody tr th {\n",
       "        vertical-align: top;\n",
       "    }\n",
       "\n",
       "    .dataframe thead th {\n",
       "        text-align: right;\n",
       "    }\n",
       "</style>\n",
       "<table border=\"1\" class=\"dataframe\">\n",
       "  <thead>\n",
       "    <tr style=\"text-align: right;\">\n",
       "      <th></th>\n",
       "      <th>movie</th>\n",
       "      <th>actual</th>\n",
       "      <th>predicted</th>\n",
       "    </tr>\n",
       "  </thead>\n",
       "  <tbody>\n",
       "    <tr>\n",
       "      <th>0</th>\n",
       "      <td>Ulsavapittennu</td>\n",
       "      <td>1</td>\n",
       "      <td>1</td>\n",
       "    </tr>\n",
       "    <tr>\n",
       "      <th>1</th>\n",
       "      <td>La mia vita con John F. Donovan</td>\n",
       "      <td>1</td>\n",
       "      <td>1</td>\n",
       "    </tr>\n",
       "    <tr>\n",
       "      <th>2</th>\n",
       "      <td>Bruce Lee vive ancora</td>\n",
       "      <td>1</td>\n",
       "      <td>0</td>\n",
       "    </tr>\n",
       "    <tr>\n",
       "      <th>3</th>\n",
       "      <td>Miss Kicki</td>\n",
       "      <td>1</td>\n",
       "      <td>1</td>\n",
       "    </tr>\n",
       "    <tr>\n",
       "      <th>4</th>\n",
       "      <td>11 Blocks</td>\n",
       "      <td>0</td>\n",
       "      <td>0</td>\n",
       "    </tr>\n",
       "    <tr>\n",
       "      <th>5</th>\n",
       "      <td>Egy bolond százat csinál</td>\n",
       "      <td>1</td>\n",
       "      <td>1</td>\n",
       "    </tr>\n",
       "    <tr>\n",
       "      <th>6</th>\n",
       "      <td>Yun zhuan shou zhi lian</td>\n",
       "      <td>1</td>\n",
       "      <td>1</td>\n",
       "    </tr>\n",
       "    <tr>\n",
       "      <th>7</th>\n",
       "      <td>Malkoçoglu - krallara karsi</td>\n",
       "      <td>1</td>\n",
       "      <td>1</td>\n",
       "    </tr>\n",
       "    <tr>\n",
       "      <th>8</th>\n",
       "      <td>Red Eye</td>\n",
       "      <td>1</td>\n",
       "      <td>1</td>\n",
       "    </tr>\n",
       "    <tr>\n",
       "      <th>9</th>\n",
       "      <td>Warhead</td>\n",
       "      <td>0</td>\n",
       "      <td>0</td>\n",
       "    </tr>\n",
       "    <tr>\n",
       "      <th>10</th>\n",
       "      <td>Maman est chez le coiffeur</td>\n",
       "      <td>1</td>\n",
       "      <td>1</td>\n",
       "    </tr>\n",
       "    <tr>\n",
       "      <th>11</th>\n",
       "      <td>Distruggete DC 59, da base spaziale a Hong Kong</td>\n",
       "      <td>1</td>\n",
       "      <td>1</td>\n",
       "    </tr>\n",
       "    <tr>\n",
       "      <th>12</th>\n",
       "      <td>Ha-Hesder</td>\n",
       "      <td>1</td>\n",
       "      <td>1</td>\n",
       "    </tr>\n",
       "    <tr>\n",
       "      <th>13</th>\n",
       "      <td>Undermind</td>\n",
       "      <td>1</td>\n",
       "      <td>0</td>\n",
       "    </tr>\n",
       "    <tr>\n",
       "      <th>14</th>\n",
       "      <td>Psycho Beach Party</td>\n",
       "      <td>1</td>\n",
       "      <td>1</td>\n",
       "    </tr>\n",
       "    <tr>\n",
       "      <th>15</th>\n",
       "      <td>Il seme della violenza</td>\n",
       "      <td>1</td>\n",
       "      <td>1</td>\n",
       "    </tr>\n",
       "    <tr>\n",
       "      <th>16</th>\n",
       "      <td>O Guerreiro Didi e a Ninja Lili</td>\n",
       "      <td>0</td>\n",
       "      <td>0</td>\n",
       "    </tr>\n",
       "  </tbody>\n",
       "</table>\n",
       "</div>"
      ],
      "text/plain": [
       "                                              movie  actual  predicted\n",
       "0                                    Ulsavapittennu       1          1\n",
       "1                   La mia vita con John F. Donovan       1          1\n",
       "2                             Bruce Lee vive ancora       1          0\n",
       "3                                        Miss Kicki       1          1\n",
       "4                                         11 Blocks       0          0\n",
       "5                          Egy bolond százat csinál       1          1\n",
       "6                           Yun zhuan shou zhi lian       1          1\n",
       "7                       Malkoçoglu - krallara karsi       1          1\n",
       "8                                           Red Eye       1          1\n",
       "9                                           Warhead       0          0\n",
       "10                       Maman est chez le coiffeur       1          1\n",
       "11  Distruggete DC 59, da base spaziale a Hong Kong       1          1\n",
       "12                                        Ha-Hesder       1          1\n",
       "13                                        Undermind       1          0\n",
       "14                               Psycho Beach Party       1          1\n",
       "15                           Il seme della violenza       1          1\n",
       "16                  O Guerreiro Didi e a Ninja Lili       0          0"
      ]
     },
     "execution_count": 91,
     "metadata": {},
     "output_type": "execute_result"
    }
   ],
   "source": [
    "df2=pd.DataFrame({'movie':movie,'actual':list(yval),'predicted':list(final_predict)})\n",
    "df2"
   ]
  },
  {
   "cell_type": "code",
   "execution_count": 92,
   "id": "9747c70b",
   "metadata": {},
   "outputs": [
    {
     "name": "stdout",
     "output_type": "stream",
     "text": [
      "actual output\n",
      "0    3\n",
      "1    14\n"
     ]
    }
   ],
   "source": [
    "print('actual output')\n",
    "print('0   ',list(yval).count(0))\n",
    "print('1   ',list(yval).count(1))"
   ]
  },
  {
   "cell_type": "code",
   "execution_count": 93,
   "id": "435f9ce3",
   "metadata": {},
   "outputs": [
    {
     "name": "stdout",
     "output_type": "stream",
     "text": [
      "predicted output\n",
      "0    5\n",
      "1    12\n"
     ]
    }
   ],
   "source": [
    "print('predicted output')\n",
    "print('0   ',list(final_predict).count(0))\n",
    "print('1   ',list(final_predict).count(1))"
   ]
  },
  {
   "cell_type": "code",
   "execution_count": 96,
   "id": "062c6042",
   "metadata": {},
   "outputs": [
    {
     "name": "stdout",
     "output_type": "stream",
     "text": [
      "recommended movies \n",
      "\n",
      "\n",
      "Ulsavapittennu\n",
      "La mia vita con John F. Donovan\n",
      "Miss Kicki\n",
      "Egy bolond százat csinál\n",
      "Yun zhuan shou zhi lian\n",
      "Malkoçoglu - krallara karsi\n",
      "Red Eye\n",
      "Maman est chez le coiffeur\n",
      "Distruggete DC 59, da base spaziale a Hong Kong\n",
      "Ha-Hesder\n",
      "Psycho Beach Party\n",
      "Il seme della violenza\n"
     ]
    }
   ],
   "source": [
    "print('recommended movies \\n\\n')\n",
    "recommend=list(df2[df2['predicted']==1]['movie'])\n",
    "for i in recommend:\n",
    "    print(i)"
   ]
  },
  {
   "cell_type": "markdown",
   "id": "81f6d3bf",
   "metadata": {},
   "source": [
    "Based on duration,year,genre,director and vote our model recommends the given output."
   ]
  },
  {
   "cell_type": "code",
   "execution_count": null,
   "id": "4330dd97",
   "metadata": {},
   "outputs": [],
   "source": []
  }
 ],
 "metadata": {
  "kernelspec": {
   "display_name": "ml",
   "language": "python",
   "name": "ml"
  },
  "language_info": {
   "codemirror_mode": {
    "name": "ipython",
    "version": 3
   },
   "file_extension": ".py",
   "mimetype": "text/x-python",
   "name": "python",
   "nbconvert_exporter": "python",
   "pygments_lexer": "ipython3",
   "version": "3.7.11"
  }
 },
 "nbformat": 4,
 "nbformat_minor": 5
}
